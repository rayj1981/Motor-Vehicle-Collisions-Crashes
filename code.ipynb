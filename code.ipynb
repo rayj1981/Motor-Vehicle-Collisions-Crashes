{
 "cells": [
  {
   "cell_type": "code",
   "execution_count": 2,
   "id": "f67b50d7",
   "metadata": {},
   "outputs": [],
   "source": [
    "import pandas as pd\n",
    "import sys\n",
    "import numpy as np\n",
    "import matplotlib.pyplot as plt"
   ]
  },
  {
   "cell_type": "code",
   "execution_count": 6,
   "id": "cab770b1",
   "metadata": {},
   "outputs": [
    {
     "name": "stdout",
     "output_type": "stream",
     "text": [
      "    CRASH DATE CRASH TIME    BOROUGH  ZIP CODE                LOCATION  \\\n",
      "10  01/01/2024       4:40  MANHATTAN   10029.0  (40.790905, -73.93914)   \n",
      "21  01/01/2024      19:02  MANHATTAN   10002.0   (40.71738, -73.99131)   \n",
      "24  01/01/2024      16:00  MANHATTAN   10005.0  (40.70638, -74.009514)   \n",
      "35  01/01/2024      17:45  MANHATTAN   10013.0   (40.72369, -74.00543)   \n",
      "62  01/01/2024       6:10  MANHATTAN   10002.0  (40.718792, -73.98902)   \n",
      "\n",
      "     ON STREET NAME CROSS STREET NAME         OFF STREET NAME  \\\n",
      "10  EAST 108 STREET          1 AVENUE                     NaN   \n",
      "21     GRAND STREET      ALLEN STREET                     NaN   \n",
      "24   WILLIAM STREET       WALL STREET                     NaN   \n",
      "35              NaN               NaN  54        WATTS STREET   \n",
      "62  DELANCEY STREET     LUDLOW STREET                     NaN   \n",
      "\n",
      "    NUMBER OF PERSONS INJURED  NUMBER OF PERSONS KILLED  \\\n",
      "10                          0                         0   \n",
      "21                          0                         0   \n",
      "24                          0                         0   \n",
      "35                          1                         0   \n",
      "62                          0                         0   \n",
      "\n",
      "    NUMBER OF PEDESTRIANS INJURED  NUMBER OF PEDESTRIANS KILLED  \\\n",
      "10                              0                             0   \n",
      "21                              0                             0   \n",
      "24                              0                             0   \n",
      "35                              1                             0   \n",
      "62                              0                             0   \n",
      "\n",
      "                        CONTRIBUTING FACTOR VEHICLE 1  \\\n",
      "10                              Following Too Closely   \n",
      "21                                        Unspecified   \n",
      "24                     Driver Inattention/Distraction   \n",
      "35  Pedestrian/Bicyclist/Other Pedestrian Error/Co...   \n",
      "62                                       Unsafe Speed   \n",
      "\n",
      "   CONTRIBUTING FACTOR VEHICLE 2                  VEHICLE TYPE CODE 1  \\\n",
      "10           Driver Inexperience                                Sedan   \n",
      "21                   Unspecified  Station Wagon/Sport Utility Vehicle   \n",
      "24                   Unspecified                        Pick-up Truck   \n",
      "35                           NaN  Station Wagon/Sport Utility Vehicle   \n",
      "62                   Unspecified                                Sedan   \n",
      "\n",
      "                    VEHICLE TYPE CODE 2  \n",
      "10  Station Wagon/Sport Utility Vehicle  \n",
      "21                                Sedan  \n",
      "24                                Sedan  \n",
      "35                                  NaN  \n",
      "62                                  NaN  \n"
     ]
    }
   ],
   "source": [
    "\n",
    "# Load the dataset\n",
    "df = pd.read_csv(r\"/workspaces/Motor-Vehicle-Collisions-Crashes/Data/Motor_Vehicle_Collisions_-_Crashes_20250819.csv\")\n",
    "\n",
    "# Filter for Manhattan rows\n",
    "df_manhattan = df[df['BOROUGH'] == 'MANHATTAN']\n",
    "\n",
    "REQUIRED_COLS = ['CRASH DATE', 'CRASH TIME', 'BOROUGH', 'ZIP CODE', 'LOCATION', 'ON STREET NAME', 'CROSS STREET NAME', 'OFF STREET NAME', 'NUMBER OF PERSONS INJURED', 'NUMBER OF PERSONS KILLED', 'NUMBER OF PEDESTRIANS INJURED', 'NUMBER OF PEDESTRIANS KILLED', 'CONTRIBUTING FACTOR VEHICLE 1', 'CONTRIBUTING FACTOR VEHICLE 2', 'VEHICLE TYPE CODE 1', 'VEHICLE TYPE CODE 2']\n",
    "\n",
    "df_manhattan = df_manhattan[REQUIRED_COLS]\n",
    "\n",
    "print(df_manhattan.head())\n",
    "\n",
    "# Save the filtered DataFrame to a new CSV file\n",
    "output_file = r\"Data/manhattan_crashes.csv\"\n",
    "df_manhattan.to_csv(output_file, index=False)"
   ]
  },
  {
   "cell_type": "code",
   "execution_count": null,
   "id": "232fa21b",
   "metadata": {},
   "outputs": [],
   "source": []
  }
 ],
 "metadata": {
  "kernelspec": {
   "display_name": "Python 3",
   "language": "python",
   "name": "python3"
  },
  "language_info": {
   "codemirror_mode": {
    "name": "ipython",
    "version": 3
   },
   "file_extension": ".py",
   "mimetype": "text/x-python",
   "name": "python",
   "nbconvert_exporter": "python",
   "pygments_lexer": "ipython3",
   "version": "3.12.1"
  }
 },
 "nbformat": 4,
 "nbformat_minor": 5
}
